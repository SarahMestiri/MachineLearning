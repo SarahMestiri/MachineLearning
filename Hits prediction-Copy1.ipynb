{
 "cells": [
  {
   "cell_type": "markdown",
   "metadata": {},
   "source": [
    "# Introduction"
   ]
  },
  {
   "cell_type": "markdown",
   "metadata": {},
   "source": [
    "\n",
    "The dataset contains informations about sessions as follow:\n",
    "- row_num: a number uniquely identifying each row.\n",
    "- locale: the platform of the session.\n",
    "- day_of_week: Mon-Fri, the day of the week of the session.\n",
    "- hour_of_day: 00-23, the hour of the day of the session.\n",
    "- agent_id: the device used for the session.\n",
    "- entry_page: describes the landing page of the session.\n",
    "- path_id_set: shows all the locations that were visited during the session.\n",
    "- traffic_type: indicates the channel the user cane through eg. search engine, email, ...\n",
    "- session_duration: the duration in seconds of the session.\n",
    "- hits: the number of interactions with the trivago page during the session.\n",
    " \n",
    "The steps that I will go through are:\n",
    "- Data preparation: selection, preprocessing and transformation.\n",
    "- Spot check algorithms: trying different prediction algorithms: Linear regression, Decision trees for regression, SVM for regression.\n",
    "- Improve results: try to improve the best performing algorithms.\n",
    "- Present results - conclusion."
   ]
  },
  {
   "cell_type": "markdown",
   "metadata": {},
   "source": [
    "# Import Packages"
   ]
  },
  {
   "cell_type": "code",
   "execution_count": 1,
   "metadata": {
    "collapsed": true
   },
   "outputs": [],
   "source": [
    "import warnings\n",
    "warnings.filterwarnings(\"ignore\")\n",
    "\n",
    "import pandas as pd\n",
    "import numpy as np\n",
    "import seaborn as sns\n",
    "import matplotlib.pyplot as plt\n",
    "\n",
    "%matplotlib inline"
   ]
  },
  {
   "cell_type": "markdown",
   "metadata": {},
   "source": [
    "# Prepare Data"
   ]
  },
  {
   "cell_type": "markdown",
   "metadata": {},
   "source": [
    "As a first step, we need to understand our data and know what data is available, is there missing values? What is the type of the attributes? etc."
   ]
  },
  {
   "cell_type": "markdown",
   "metadata": {},
   "source": [
    "## Step 1: Load Data"
   ]
  },
  {
   "cell_type": "code",
   "execution_count": 2,
   "metadata": {
    "collapsed": true
   },
   "outputs": [],
   "source": [
    "#read the data using pandas\n",
    "records = pd.read_csv(\"ML_Data_Scientist_Case_Study_Data/ML Data Scientist Case Study Data.csv\",delimiter=';')"
   ]
  },
  {
   "cell_type": "code",
   "execution_count": 3,
   "metadata": {},
   "outputs": [
    {
     "data": {
      "text/html": [
       "<div>\n",
       "<table border=\"1\" class=\"dataframe\">\n",
       "  <thead>\n",
       "    <tr style=\"text-align: right;\">\n",
       "      <th></th>\n",
       "      <th>row_num</th>\n",
       "      <th>locale</th>\n",
       "      <th>day_of_week</th>\n",
       "      <th>hour_of_day</th>\n",
       "      <th>agent_id</th>\n",
       "      <th>entry_page</th>\n",
       "      <th>path_id_set</th>\n",
       "      <th>traffic_type</th>\n",
       "      <th>session_durantion</th>\n",
       "      <th>hits</th>\n",
       "    </tr>\n",
       "  </thead>\n",
       "  <tbody>\n",
       "    <tr>\n",
       "      <th>0</th>\n",
       "      <td>988681</td>\n",
       "      <td>L6</td>\n",
       "      <td>Monday</td>\n",
       "      <td>17</td>\n",
       "      <td>1</td>\n",
       "      <td>2111</td>\n",
       "      <td>31672;0</td>\n",
       "      <td>6</td>\n",
       "      <td>7037</td>\n",
       "      <td>\\N</td>\n",
       "    </tr>\n",
       "    <tr>\n",
       "      <th>1</th>\n",
       "      <td>988680</td>\n",
       "      <td>L2</td>\n",
       "      <td>Thursday</td>\n",
       "      <td>22</td>\n",
       "      <td>10</td>\n",
       "      <td>2113</td>\n",
       "      <td>31965;0</td>\n",
       "      <td>2</td>\n",
       "      <td>49</td>\n",
       "      <td>14</td>\n",
       "    </tr>\n",
       "    <tr>\n",
       "      <th>2</th>\n",
       "      <td>988679</td>\n",
       "      <td>L4</td>\n",
       "      <td>Saturday</td>\n",
       "      <td>21</td>\n",
       "      <td>2</td>\n",
       "      <td>2100</td>\n",
       "      <td>0;78464</td>\n",
       "      <td>1</td>\n",
       "      <td>1892</td>\n",
       "      <td>14</td>\n",
       "    </tr>\n",
       "    <tr>\n",
       "      <th>3</th>\n",
       "      <td>988678</td>\n",
       "      <td>L3</td>\n",
       "      <td>Saturday</td>\n",
       "      <td>19</td>\n",
       "      <td>8</td>\n",
       "      <td>2113</td>\n",
       "      <td>51462</td>\n",
       "      <td>6</td>\n",
       "      <td>0</td>\n",
       "      <td>1</td>\n",
       "    </tr>\n",
       "    <tr>\n",
       "      <th>4</th>\n",
       "      <td>988677</td>\n",
       "      <td>L2</td>\n",
       "      <td>Tuesday</td>\n",
       "      <td>6</td>\n",
       "      <td>10</td>\n",
       "      <td>2116</td>\n",
       "      <td>31931;0</td>\n",
       "      <td>1</td>\n",
       "      <td>2</td>\n",
       "      <td>3</td>\n",
       "    </tr>\n",
       "  </tbody>\n",
       "</table>\n",
       "</div>"
      ],
      "text/plain": [
       "   row_num locale day_of_week  hour_of_day  agent_id  entry_page path_id_set  \\\n",
       "0   988681     L6      Monday           17         1        2111     31672;0   \n",
       "1   988680     L2    Thursday           22        10        2113     31965;0   \n",
       "2   988679     L4    Saturday           21         2        2100     0;78464   \n",
       "3   988678     L3    Saturday           19         8        2113       51462   \n",
       "4   988677     L2     Tuesday            6        10        2116     31931;0   \n",
       "\n",
       "   traffic_type session_durantion hits  \n",
       "0             6              7037   \\N  \n",
       "1             2                49   14  \n",
       "2             1              1892   14  \n",
       "3             6                 0    1  \n",
       "4             1                 2    3  "
      ]
     },
     "execution_count": 3,
     "metadata": {},
     "output_type": "execute_result"
    }
   ],
   "source": [
    "#check the head of the data to get an overview of its columns\n",
    "records.head()"
   ]
  },
  {
   "cell_type": "code",
   "execution_count": 4,
   "metadata": {
    "collapsed": true
   },
   "outputs": [],
   "source": [
    "records.columns = [\"row_num\",\"locale\",\"day_of_week\",\"hour_of_day\",\"agent_id\",\"entry_page\",\"path_id_set\",\"traffic_type\",\"session_duration\",\"hits\"]"
   ]
  },
  {
   "cell_type": "code",
   "execution_count": 5,
   "metadata": {},
   "outputs": [
    {
     "data": {
      "text/html": [
       "<div>\n",
       "<table border=\"1\" class=\"dataframe\">\n",
       "  <thead>\n",
       "    <tr style=\"text-align: right;\">\n",
       "      <th></th>\n",
       "      <th>row_num</th>\n",
       "      <th>locale</th>\n",
       "      <th>day_of_week</th>\n",
       "      <th>hour_of_day</th>\n",
       "      <th>agent_id</th>\n",
       "      <th>entry_page</th>\n",
       "      <th>path_id_set</th>\n",
       "      <th>traffic_type</th>\n",
       "      <th>session_duration</th>\n",
       "      <th>hits</th>\n",
       "    </tr>\n",
       "  </thead>\n",
       "  <tbody>\n",
       "    <tr>\n",
       "      <th>988676</th>\n",
       "      <td>5</td>\n",
       "      <td>L2</td>\n",
       "      <td>Tuesday</td>\n",
       "      <td>18</td>\n",
       "      <td>2</td>\n",
       "      <td>2113</td>\n",
       "      <td>44232;0</td>\n",
       "      <td>2</td>\n",
       "      <td>5</td>\n",
       "      <td>\\N</td>\n",
       "    </tr>\n",
       "    <tr>\n",
       "      <th>988677</th>\n",
       "      <td>4</td>\n",
       "      <td>L6</td>\n",
       "      <td>Tuesday</td>\n",
       "      <td>9</td>\n",
       "      <td>6</td>\n",
       "      <td>2113</td>\n",
       "      <td>38715;0;40057;31657</td>\n",
       "      <td>2</td>\n",
       "      <td>35</td>\n",
       "      <td>\\N</td>\n",
       "    </tr>\n",
       "    <tr>\n",
       "      <th>988678</th>\n",
       "      <td>3</td>\n",
       "      <td>L2</td>\n",
       "      <td>Sunday</td>\n",
       "      <td>17</td>\n",
       "      <td>8</td>\n",
       "      <td>2114</td>\n",
       "      <td>15466;0</td>\n",
       "      <td>6</td>\n",
       "      <td>1011</td>\n",
       "      <td>\\N</td>\n",
       "    </tr>\n",
       "    <tr>\n",
       "      <th>988679</th>\n",
       "      <td>2</td>\n",
       "      <td>L3</td>\n",
       "      <td>Monday</td>\n",
       "      <td>17</td>\n",
       "      <td>13</td>\n",
       "      <td>2113</td>\n",
       "      <td>531228;0</td>\n",
       "      <td>2</td>\n",
       "      <td>132</td>\n",
       "      <td>\\N</td>\n",
       "    </tr>\n",
       "    <tr>\n",
       "      <th>988680</th>\n",
       "      <td>1</td>\n",
       "      <td>L4</td>\n",
       "      <td>Thursday</td>\n",
       "      <td>15</td>\n",
       "      <td>1</td>\n",
       "      <td>2116</td>\n",
       "      <td>76673;0</td>\n",
       "      <td>2</td>\n",
       "      <td>4544</td>\n",
       "      <td>18</td>\n",
       "    </tr>\n",
       "  </tbody>\n",
       "</table>\n",
       "</div>"
      ],
      "text/plain": [
       "        row_num locale day_of_week  hour_of_day  agent_id  entry_page  \\\n",
       "988676        5     L2     Tuesday           18         2        2113   \n",
       "988677        4     L6     Tuesday            9         6        2113   \n",
       "988678        3     L2      Sunday           17         8        2114   \n",
       "988679        2     L3      Monday           17        13        2113   \n",
       "988680        1     L4    Thursday           15         1        2116   \n",
       "\n",
       "                path_id_set  traffic_type session_duration hits  \n",
       "988676              44232;0             2                5   \\N  \n",
       "988677  38715;0;40057;31657             2               35   \\N  \n",
       "988678              15466;0             6             1011   \\N  \n",
       "988679             531228;0             2              132   \\N  \n",
       "988680              76673;0             2             4544   18  "
      ]
     },
     "execution_count": 5,
     "metadata": {},
     "output_type": "execute_result"
    }
   ],
   "source": [
    "records.tail()"
   ]
  },
  {
   "cell_type": "markdown",
   "metadata": {},
   "source": [
    "It's important to get an idea about the shape of our dataset which help us better chose later what transformations are needed."
   ]
  },
  {
   "cell_type": "code",
   "execution_count": 6,
   "metadata": {},
   "outputs": [
    {
     "data": {
      "text/plain": [
       "(988681, 10)"
      ]
     },
     "execution_count": 6,
     "metadata": {},
     "output_type": "execute_result"
    }
   ],
   "source": [
    "records.shape"
   ]
  },
  {
   "cell_type": "markdown",
   "metadata": {},
   "source": [
    "We have a big dataset, but what about the type of the columns? This information is needed for preparation of the data as input to the models because some algorithms have restrictions on the type."
   ]
  },
  {
   "cell_type": "code",
   "execution_count": 7,
   "metadata": {},
   "outputs": [
    {
     "name": "stdout",
     "output_type": "stream",
     "text": [
      "<class 'pandas.core.frame.DataFrame'>\n",
      "RangeIndex: 988681 entries, 0 to 988680\n",
      "Data columns (total 10 columns):\n",
      "row_num             988681 non-null int64\n",
      "locale              988681 non-null object\n",
      "day_of_week         988681 non-null object\n",
      "hour_of_day         988681 non-null int64\n",
      "agent_id            988681 non-null int64\n",
      "entry_page          988681 non-null int64\n",
      "path_id_set         983792 non-null object\n",
      "traffic_type        988681 non-null int64\n",
      "session_duration    988681 non-null object\n",
      "hits                988681 non-null object\n",
      "dtypes: int64(5), object(5)\n",
      "memory usage: 75.4+ MB\n"
     ]
    }
   ],
   "source": [
    "records.info()"
   ]
  },
  {
   "cell_type": "markdown",
   "metadata": {},
   "source": [
    "Some of the columns are of type objects like day_of_week and hour_of_day and session_duration. We will invesigate more on these types later.\n",
    "\n",
    "Also, we can notice that **only** the column **path_id_set** contains missing values. We can confirm that by using isnull() method."
   ]
  },
  {
   "cell_type": "code",
   "execution_count": 8,
   "metadata": {},
   "outputs": [
    {
     "data": {
      "text/plain": [
       "row_num                0\n",
       "locale                 0\n",
       "day_of_week            0\n",
       "hour_of_day            0\n",
       "agent_id               0\n",
       "entry_page             0\n",
       "path_id_set         4889\n",
       "traffic_type           0\n",
       "session_duration       0\n",
       "hits                   0\n",
       "dtype: int64"
      ]
     },
     "execution_count": 8,
     "metadata": {},
     "output_type": "execute_result"
    }
   ],
   "source": [
    "#check null values\n",
    "records.isnull().sum()"
   ]
  },
  {
   "cell_type": "markdown",
   "metadata": {},
   "source": [
    "But by looking at our dataset head/tail, there are some rows where  the attribute **hits** is assigned '\\N' value. I expect that this value means missing value since we already know that there is missing values for that column and we didn't get that using the null() function because it only considers NaN numpy values."
   ]
  },
  {
   "cell_type": "code",
   "execution_count": 9,
   "metadata": {},
   "outputs": [
    {
     "data": {
      "text/html": [
       "<div>\n",
       "<table border=\"1\" class=\"dataframe\">\n",
       "  <thead>\n",
       "    <tr style=\"text-align: right;\">\n",
       "      <th></th>\n",
       "      <th>row_num</th>\n",
       "      <th>locale</th>\n",
       "      <th>day_of_week</th>\n",
       "      <th>hour_of_day</th>\n",
       "      <th>agent_id</th>\n",
       "      <th>entry_page</th>\n",
       "      <th>path_id_set</th>\n",
       "      <th>traffic_type</th>\n",
       "      <th>session_duration</th>\n",
       "      <th>hits</th>\n",
       "    </tr>\n",
       "  </thead>\n",
       "  <tbody>\n",
       "    <tr>\n",
       "      <th>0</th>\n",
       "      <td>988681</td>\n",
       "      <td>L6</td>\n",
       "      <td>Monday</td>\n",
       "      <td>17</td>\n",
       "      <td>1</td>\n",
       "      <td>2111</td>\n",
       "      <td>31672;0</td>\n",
       "      <td>6</td>\n",
       "      <td>7037</td>\n",
       "      <td>\\N</td>\n",
       "    </tr>\n",
       "    <tr>\n",
       "      <th>15</th>\n",
       "      <td>988666</td>\n",
       "      <td>L3</td>\n",
       "      <td>Thursday</td>\n",
       "      <td>16</td>\n",
       "      <td>10</td>\n",
       "      <td>2700</td>\n",
       "      <td>0;34387;84765</td>\n",
       "      <td>1</td>\n",
       "      <td>5189</td>\n",
       "      <td>\\N</td>\n",
       "    </tr>\n",
       "    <tr>\n",
       "      <th>16</th>\n",
       "      <td>988665</td>\n",
       "      <td>L4</td>\n",
       "      <td>Sunday</td>\n",
       "      <td>16</td>\n",
       "      <td>10</td>\n",
       "      <td>2113</td>\n",
       "      <td>79148;0</td>\n",
       "      <td>4</td>\n",
       "      <td>5</td>\n",
       "      <td>\\N</td>\n",
       "    </tr>\n",
       "    <tr>\n",
       "      <th>17</th>\n",
       "      <td>988664</td>\n",
       "      <td>L3</td>\n",
       "      <td>Tuesday</td>\n",
       "      <td>19</td>\n",
       "      <td>6</td>\n",
       "      <td>2100</td>\n",
       "      <td>0;34602;34604</td>\n",
       "      <td>1</td>\n",
       "      <td>8041</td>\n",
       "      <td>\\N</td>\n",
       "    </tr>\n",
       "    <tr>\n",
       "      <th>18</th>\n",
       "      <td>988663</td>\n",
       "      <td>L3</td>\n",
       "      <td>Friday</td>\n",
       "      <td>20</td>\n",
       "      <td>10</td>\n",
       "      <td>2111</td>\n",
       "      <td>34287;0;60579</td>\n",
       "      <td>2</td>\n",
       "      <td>117</td>\n",
       "      <td>\\N</td>\n",
       "    </tr>\n",
       "  </tbody>\n",
       "</table>\n",
       "</div>"
      ],
      "text/plain": [
       "    row_num locale day_of_week  hour_of_day  agent_id  entry_page  \\\n",
       "0    988681     L6      Monday           17         1        2111   \n",
       "15   988666     L3    Thursday           16        10        2700   \n",
       "16   988665     L4      Sunday           16        10        2113   \n",
       "17   988664     L3     Tuesday           19         6        2100   \n",
       "18   988663     L3      Friday           20        10        2111   \n",
       "\n",
       "      path_id_set  traffic_type session_duration hits  \n",
       "0         31672;0             6             7037   \\N  \n",
       "15  0;34387;84765             1             5189   \\N  \n",
       "16        79148;0             4                5   \\N  \n",
       "17  0;34602;34604             1             8041   \\N  \n",
       "18  34287;0;60579             2              117   \\N  "
      ]
     },
     "execution_count": 9,
     "metadata": {},
     "output_type": "execute_result"
    }
   ],
   "source": [
    "#check hits not available values\n",
    "records[records['hits']=='\\\\N'].head()"
   ]
  },
  {
   "cell_type": "markdown",
   "metadata": {},
   "source": [
    "Let's see what the describe() method tells us about the distribution of numerical values before deepening using visualizations."
   ]
  },
  {
   "cell_type": "code",
   "execution_count": 10,
   "metadata": {},
   "outputs": [
    {
     "data": {
      "text/html": [
       "<div>\n",
       "<table border=\"1\" class=\"dataframe\">\n",
       "  <thead>\n",
       "    <tr style=\"text-align: right;\">\n",
       "      <th></th>\n",
       "      <th>row_num</th>\n",
       "      <th>hour_of_day</th>\n",
       "      <th>agent_id</th>\n",
       "      <th>entry_page</th>\n",
       "      <th>traffic_type</th>\n",
       "    </tr>\n",
       "  </thead>\n",
       "  <tbody>\n",
       "    <tr>\n",
       "      <th>count</th>\n",
       "      <td>988681.000000</td>\n",
       "      <td>988681.000000</td>\n",
       "      <td>988681.000000</td>\n",
       "      <td>988681.000000</td>\n",
       "      <td>988681.000000</td>\n",
       "    </tr>\n",
       "    <tr>\n",
       "      <th>mean</th>\n",
       "      <td>494341.000000</td>\n",
       "      <td>13.203988</td>\n",
       "      <td>7.350779</td>\n",
       "      <td>2253.265114</td>\n",
       "      <td>2.773766</td>\n",
       "    </tr>\n",
       "    <tr>\n",
       "      <th>std</th>\n",
       "      <td>285407.765082</td>\n",
       "      <td>6.718056</td>\n",
       "      <td>3.869630</td>\n",
       "      <td>775.083390</td>\n",
       "      <td>1.920976</td>\n",
       "    </tr>\n",
       "    <tr>\n",
       "      <th>min</th>\n",
       "      <td>1.000000</td>\n",
       "      <td>0.000000</td>\n",
       "      <td>0.000000</td>\n",
       "      <td>2100.000000</td>\n",
       "      <td>1.000000</td>\n",
       "    </tr>\n",
       "    <tr>\n",
       "      <th>25%</th>\n",
       "      <td>247171.000000</td>\n",
       "      <td>8.000000</td>\n",
       "      <td>6.000000</td>\n",
       "      <td>2111.000000</td>\n",
       "      <td>1.000000</td>\n",
       "    </tr>\n",
       "    <tr>\n",
       "      <th>50%</th>\n",
       "      <td>494341.000000</td>\n",
       "      <td>14.000000</td>\n",
       "      <td>9.000000</td>\n",
       "      <td>2113.000000</td>\n",
       "      <td>2.000000</td>\n",
       "    </tr>\n",
       "    <tr>\n",
       "      <th>75%</th>\n",
       "      <td>741511.000000</td>\n",
       "      <td>19.000000</td>\n",
       "      <td>10.000000</td>\n",
       "      <td>2116.000000</td>\n",
       "      <td>4.000000</td>\n",
       "    </tr>\n",
       "    <tr>\n",
       "      <th>max</th>\n",
       "      <td>988681.000000</td>\n",
       "      <td>23.000000</td>\n",
       "      <td>15.000000</td>\n",
       "      <td>8101.000000</td>\n",
       "      <td>10.000000</td>\n",
       "    </tr>\n",
       "  </tbody>\n",
       "</table>\n",
       "</div>"
      ],
      "text/plain": [
       "             row_num    hour_of_day       agent_id     entry_page  \\\n",
       "count  988681.000000  988681.000000  988681.000000  988681.000000   \n",
       "mean   494341.000000      13.203988       7.350779    2253.265114   \n",
       "std    285407.765082       6.718056       3.869630     775.083390   \n",
       "min         1.000000       0.000000       0.000000    2100.000000   \n",
       "25%    247171.000000       8.000000       6.000000    2111.000000   \n",
       "50%    494341.000000      14.000000       9.000000    2113.000000   \n",
       "75%    741511.000000      19.000000      10.000000    2116.000000   \n",
       "max    988681.000000      23.000000      15.000000    8101.000000   \n",
       "\n",
       "        traffic_type  \n",
       "count  988681.000000  \n",
       "mean        2.773766  \n",
       "std         1.920976  \n",
       "min         1.000000  \n",
       "25%         1.000000  \n",
       "50%         2.000000  \n",
       "75%         4.000000  \n",
       "max        10.000000  "
      ]
     },
     "execution_count": 10,
     "metadata": {},
     "output_type": "execute_result"
    }
   ],
   "source": [
    "#get an idea about statistic description of numeric values\n",
    "records.describe()"
   ]
  },
  {
   "cell_type": "markdown",
   "metadata": {},
   "source": [
    "As our goal is to predict the hits for all the rows where hits is not available, we need to know how many rows are they?"
   ]
  },
  {
   "cell_type": "code",
   "execution_count": 4,
   "metadata": {},
   "outputs": [
    {
     "data": {
      "text/plain": [
       "369446"
      ]
     },
     "execution_count": 4,
     "metadata": {},
     "output_type": "execute_result"
    }
   ],
   "source": [
    "#create a dataframe filtered by non available hits\n",
    "hits_null = records[records['hits']=='\\\\N']\n",
    "#get the number of rows having unavailable hits\n",
    "len(hits_null)"
   ]
  },
  {
   "cell_type": "markdown",
   "metadata": {},
   "source": [
    "It seems to be a large amount of unavailable hits in our dataset. To get a better estimation, we can calculate the percentage."
   ]
  },
  {
   "cell_type": "code",
   "execution_count": 5,
   "metadata": {},
   "outputs": [
    {
     "data": {
      "text/plain": [
       "37.37"
      ]
     },
     "execution_count": 5,
     "metadata": {},
     "output_type": "execute_result"
    }
   ],
   "source": [
    "round(len(hits_null) *100 / len(records),2)"
   ]
  },
  {
   "cell_type": "markdown",
   "metadata": {},
   "source": [
    "So we have 37% of our dataset with missing values of hits, or values to predict. From that we can also conclude that we are going to use only around 60% of our data in the training phase of the model."
   ]
  },
  {
   "cell_type": "markdown",
   "metadata": {},
   "source": [
    "## Step 2: Data Selection"
   ]
  },
  {
   "cell_type": "markdown",
   "metadata": {},
   "source": [
    "In this step, I will explore the relations between different features and try to discover the important ones before applying any method that automatically does that. I will start by some visualizations."
   ]
  },
  {
   "cell_type": "markdown",
   "metadata": {},
   "source": [
    "Let's see the distribution of our variables."
   ]
  },
  {
   "cell_type": "code",
   "execution_count": 6,
   "metadata": {},
   "outputs": [
    {
     "data": {
      "text/plain": [
       "pandas.core.series.Series"
      ]
     },
     "execution_count": 6,
     "metadata": {},
     "output_type": "execute_result"
    }
   ],
   "source": [
    "#check the type of hits as we found that it's an object type.\n",
    "type(records['hits'])"
   ]
  },
  {
   "cell_type": "markdown",
   "metadata": {},
   "source": [
    "As we need to know the relation of hits with the other features, we need to change the type of hits. We will consider only the rows where hits are known because those are the rows that will be used in our prediction model."
   ]
  },
  {
   "cell_type": "code",
   "execution_count": 7,
   "metadata": {},
   "outputs": [
    {
     "data": {
      "text/html": [
       "<div>\n",
       "<table border=\"1\" class=\"dataframe\">\n",
       "  <thead>\n",
       "    <tr style=\"text-align: right;\">\n",
       "      <th></th>\n",
       "      <th>row_num</th>\n",
       "      <th>locale</th>\n",
       "      <th>day_of_week</th>\n",
       "      <th>hour_of_day</th>\n",
       "      <th>agent_id</th>\n",
       "      <th>entry_page</th>\n",
       "      <th>path_id_set</th>\n",
       "      <th>traffic_type</th>\n",
       "      <th>session_durantion</th>\n",
       "      <th>hits</th>\n",
       "    </tr>\n",
       "  </thead>\n",
       "  <tbody>\n",
       "    <tr>\n",
       "      <th>1</th>\n",
       "      <td>988680</td>\n",
       "      <td>L2</td>\n",
       "      <td>Thursday</td>\n",
       "      <td>22</td>\n",
       "      <td>10</td>\n",
       "      <td>2113</td>\n",
       "      <td>31965;0</td>\n",
       "      <td>2</td>\n",
       "      <td>49</td>\n",
       "      <td>14</td>\n",
       "    </tr>\n",
       "    <tr>\n",
       "      <th>2</th>\n",
       "      <td>988679</td>\n",
       "      <td>L4</td>\n",
       "      <td>Saturday</td>\n",
       "      <td>21</td>\n",
       "      <td>2</td>\n",
       "      <td>2100</td>\n",
       "      <td>0;78464</td>\n",
       "      <td>1</td>\n",
       "      <td>1892</td>\n",
       "      <td>14</td>\n",
       "    </tr>\n",
       "    <tr>\n",
       "      <th>3</th>\n",
       "      <td>988678</td>\n",
       "      <td>L3</td>\n",
       "      <td>Saturday</td>\n",
       "      <td>19</td>\n",
       "      <td>8</td>\n",
       "      <td>2113</td>\n",
       "      <td>51462</td>\n",
       "      <td>6</td>\n",
       "      <td>0</td>\n",
       "      <td>1</td>\n",
       "    </tr>\n",
       "    <tr>\n",
       "      <th>4</th>\n",
       "      <td>988677</td>\n",
       "      <td>L2</td>\n",
       "      <td>Tuesday</td>\n",
       "      <td>6</td>\n",
       "      <td>10</td>\n",
       "      <td>2116</td>\n",
       "      <td>31931;0</td>\n",
       "      <td>1</td>\n",
       "      <td>2</td>\n",
       "      <td>3</td>\n",
       "    </tr>\n",
       "    <tr>\n",
       "      <th>5</th>\n",
       "      <td>988676</td>\n",
       "      <td>L3</td>\n",
       "      <td>Monday</td>\n",
       "      <td>1</td>\n",
       "      <td>8</td>\n",
       "      <td>2100</td>\n",
       "      <td>0</td>\n",
       "      <td>1</td>\n",
       "      <td>0</td>\n",
       "      <td>2</td>\n",
       "    </tr>\n",
       "  </tbody>\n",
       "</table>\n",
       "</div>"
      ],
      "text/plain": [
       "   row_num locale day_of_week  hour_of_day  agent_id  entry_page path_id_set  \\\n",
       "1   988680     L2    Thursday           22        10        2113     31965;0   \n",
       "2   988679     L4    Saturday           21         2        2100     0;78464   \n",
       "3   988678     L3    Saturday           19         8        2113       51462   \n",
       "4   988677     L2     Tuesday            6        10        2116     31931;0   \n",
       "5   988676     L3      Monday            1         8        2100           0   \n",
       "\n",
       "   traffic_type session_durantion hits  \n",
       "1             2                49   14  \n",
       "2             1              1892   14  \n",
       "3             6                 0    1  \n",
       "4             1                 2    3  \n",
       "5             1                 0    2  "
      ]
     },
     "execution_count": 7,
     "metadata": {},
     "output_type": "execute_result"
    }
   ],
   "source": [
    "records_hits_available = records[records['hits'] != '\\\\N']\n",
    "records_hits_available.head()"
   ]
  },
  {
   "cell_type": "markdown",
   "metadata": {},
   "source": [
    "Now we can convert the type of hits to int."
   ]
  },
  {
   "cell_type": "code",
   "execution_count": 8,
   "metadata": {},
   "outputs": [
    {
     "name": "stdout",
     "output_type": "stream",
     "text": [
      "<class 'pandas.core.frame.DataFrame'>\n",
      "Int64Index: 619235 entries, 1 to 988680\n",
      "Data columns (total 10 columns):\n",
      "row_num              619235 non-null int64\n",
      "locale               619235 non-null object\n",
      "day_of_week          619235 non-null object\n",
      "hour_of_day          619235 non-null int64\n",
      "agent_id             619235 non-null int64\n",
      "entry_page           619235 non-null int64\n",
      "path_id_set          616082 non-null object\n",
      "traffic_type         619235 non-null int64\n",
      "session_durantion    619235 non-null object\n",
      "hits                 619235 non-null int64\n",
      "dtypes: int64(6), object(4)\n",
      "memory usage: 52.0+ MB\n"
     ]
    }
   ],
   "source": [
    "#change hits type to int\n",
    "records_hits_available['hits'] = records_hits_available.hits.astype(int)\n",
    "#verify the change made for hits type\n",
    "records_hits_available.info()"
   ]
  },
  {
   "cell_type": "code",
   "execution_count": 9,
   "metadata": {},
   "outputs": [
    {
     "data": {
      "text/plain": [
       "count    619235.000000\n",
       "mean         18.210079\n",
       "std          39.099699\n",
       "min           1.000000\n",
       "25%           3.000000\n",
       "50%           7.000000\n",
       "75%          19.000000\n",
       "max        4174.000000\n",
       "Name: hits, dtype: float64"
      ]
     },
     "execution_count": 9,
     "metadata": {},
     "output_type": "execute_result"
    }
   ],
   "source": [
    "#check statistical description of hits variable\n",
    "records_hits_available['hits'].describe()"
   ]
  },
  {
   "cell_type": "markdown",
   "metadata": {},
   "source": [
    "There is a big difference between the max value and min value, also it's clear that the distribution is skewed."
   ]
  },
  {
   "cell_type": "code",
   "execution_count": 10,
   "metadata": {},
   "outputs": [
    {
     "data": {
      "text/plain": [
       "<matplotlib.axes._subplots.AxesSubplot at 0x7fb21bbc0128>"
      ]
     },
     "execution_count": 10,
     "metadata": {},
     "output_type": "execute_result"
    },
    {
     "data": {
      "image/png": "[encoded data removed]",
      "text/plain": [
       "<matplotlib.figure.Figure at 0x7fb21bbd28d0>"
      ]
     },
     "metadata": {},
     "output_type": "display_data"
    }
   ],
   "source": [
    "sns.distplot(records_hits_available['hits'])"
   ]
  },
  {
   "cell_type": "markdown",
   "metadata": {},
   "source": [
    "We can now explore the number of hits per day by using barplot."
   ]
  },
  {
   "cell_type": "code",
   "execution_count": 11,
   "metadata": {},
   "outputs": [
    {
     "data": {
      "text/plain": [
       "<matplotlib.axes._subplots.AxesSubplot at 0x7fb21bbd2cc0>"
      ]
     },
     "execution_count": 11,
     "metadata": {},
     "output_type": "execute_result"
    },
    {
     "data": {
      "image/png": "[encoded data removed]",
      "text/plain": [
       "<matplotlib.figure.Figure at 0x7fb21bbd2128>"
      ]
     },
     "metadata": {},
     "output_type": "display_data"
    }
   ],
   "source": [
    "plt.figure(figsize=(8,5))\n",
    "sns.barplot(x='day_of_week', y='hits',data=records_hits_available)"
   ]
  },
  {
   "cell_type": "markdown",
   "metadata": {},
   "source": [
    "In average, most of the hits occure on Tuesday."
   ]
  },
  {
   "cell_type": "markdown",
   "metadata": {},
   "source": [
    "What about the hits per hour of the day?"
   ]
  },
  {
   "cell_type": "code",
   "execution_count": 23,
   "metadata": {},
   "outputs": [
    {
     "data": {
      "text/plain": [
       "<matplotlib.axes._subplots.AxesSubplot at 0x7f323d518860>"
      ]
     },
     "execution_count": 23,
     "metadata": {},
     "output_type": "execute_result"
    },
    {
     "data": {
      "image/png": "[encoded data removed]",
      "text/plain": [
       "<matplotlib.figure.Figure at 0x7f323d512630>"
      ]
     },
     "metadata": {},
     "output_type": "display_data"
    }
   ],
   "source": [
    "plt.figure(figsize=(12,8))\n",
    "sns.barplot(x='hour_of_day', y='hits',data=records_hits_available)"
   ]
  },
  {
   "cell_type": "markdown",
   "metadata": {},
   "source": [
    "We can notice that most of the hits occur on 00h."
   ]
  },
  {
   "cell_type": "code",
   "execution_count": 26,
   "metadata": {},
   "outputs": [
    {
     "data": {
      "text/plain": [
       "<matplotlib.axes._subplots.AxesSubplot at 0x7f323c2e92b0>"
      ]
     },
     "execution_count": 26,
     "metadata": {},
     "output_type": "execute_result"
    },
    {
     "data": {
      "image/png": "[encoded data removed]",
      "text/plain": [
       "<matplotlib.figure.Figure at 0x7f3236ec9588>"
      ]
     },
     "metadata": {},
     "output_type": "display_data"
    }
   ],
   "source": [
    "plt.figure(figsize=(11,8))\n",
    "#seaborn heatmap correlation\n",
    "sns.heatmap(records_hits_available.corr(),cmap=\"coolwarm\")"
   ]
  },
  {
   "cell_type": "markdown",
   "metadata": {},
   "source": [
    "## Data transformation"
   ]
  },
  {
   "cell_type": "code",
   "execution_count": 20,
   "metadata": {},
   "outputs": [
    {
     "data": {
      "text/plain": [
       "<matplotlib.axes._subplots.AxesSubplot at 0x7fe8f8eb3f60>"
      ]
     },
     "execution_count": 20,
     "metadata": {},
     "output_type": "execute_result"
    },
    {
     "data": {
      "image/png": "[encoded data removed]",
      "text/plain": [
       "<matplotlib.figure.Figure at 0x7fe93713fef0>"
      ]
     },
     "metadata": {},
     "output_type": "display_data"
    }
   ],
   "source": [
    "sns.barplot(x='locale', y='hits',data=records_hits_available)"
   ]
  },
  {
   "cell_type": "code",
   "execution_count": 36,
   "metadata": {},
   "outputs": [
    {
     "data": {
      "text/html": [
       "<div>\n",
       "<table border=\"1\" class=\"dataframe\">\n",
       "  <thead>\n",
       "    <tr style=\"text-align: right;\">\n",
       "      <th></th>\n",
       "      <th>row_num</th>\n",
       "      <th>hour_of_day</th>\n",
       "      <th>agent_id</th>\n",
       "      <th>entry_page</th>\n",
       "      <th>traffic_type</th>\n",
       "      <th>hits</th>\n",
       "    </tr>\n",
       "  </thead>\n",
       "  <tbody>\n",
       "    <tr>\n",
       "      <th>count</th>\n",
       "      <td>619235.000000</td>\n",
       "      <td>619235.000000</td>\n",
       "      <td>619235.000000</td>\n",
       "      <td>619235.000000</td>\n",
       "      <td>619235.000000</td>\n",
       "      <td>619235.000000</td>\n",
       "    </tr>\n",
       "    <tr>\n",
       "      <th>mean</th>\n",
       "      <td>494098.480154</td>\n",
       "      <td>13.192517</td>\n",
       "      <td>7.431804</td>\n",
       "      <td>2261.892047</td>\n",
       "      <td>2.713186</td>\n",
       "      <td>18.210079</td>\n",
       "    </tr>\n",
       "    <tr>\n",
       "      <th>std</th>\n",
       "      <td>285454.273535</td>\n",
       "      <td>6.766696</td>\n",
       "      <td>3.980112</td>\n",
       "      <td>797.624728</td>\n",
       "      <td>1.882351</td>\n",
       "      <td>39.099699</td>\n",
       "    </tr>\n",
       "    <tr>\n",
       "      <th>min</th>\n",
       "      <td>1.000000</td>\n",
       "      <td>0.000000</td>\n",
       "      <td>0.000000</td>\n",
       "      <td>2100.000000</td>\n",
       "      <td>1.000000</td>\n",
       "      <td>1.000000</td>\n",
       "    </tr>\n",
       "    <tr>\n",
       "      <th>25%</th>\n",
       "      <td>246820.500000</td>\n",
       "      <td>8.000000</td>\n",
       "      <td>2.000000</td>\n",
       "      <td>2111.000000</td>\n",
       "      <td>1.000000</td>\n",
       "      <td>3.000000</td>\n",
       "    </tr>\n",
       "    <tr>\n",
       "      <th>50%</th>\n",
       "      <td>493923.000000</td>\n",
       "      <td>14.000000</td>\n",
       "      <td>9.000000</td>\n",
       "      <td>2113.000000</td>\n",
       "      <td>2.000000</td>\n",
       "      <td>7.000000</td>\n",
       "    </tr>\n",
       "    <tr>\n",
       "      <th>75%</th>\n",
       "      <td>741286.500000</td>\n",
       "      <td>19.000000</td>\n",
       "      <td>10.000000</td>\n",
       "      <td>2116.000000</td>\n",
       "      <td>4.000000</td>\n",
       "      <td>19.000000</td>\n",
       "    </tr>\n",
       "    <tr>\n",
       "      <th>max</th>\n",
       "      <td>988680.000000</td>\n",
       "      <td>23.000000</td>\n",
       "      <td>15.000000</td>\n",
       "      <td>8101.000000</td>\n",
       "      <td>10.000000</td>\n",
       "      <td>4174.000000</td>\n",
       "    </tr>\n",
       "  </tbody>\n",
       "</table>\n",
       "</div>"
      ],
      "text/plain": [
       "             row_num    hour_of_day       agent_id     entry_page  \\\n",
       "count  619235.000000  619235.000000  619235.000000  619235.000000   \n",
       "mean   494098.480154      13.192517       7.431804    2261.892047   \n",
       "std    285454.273535       6.766696       3.980112     797.624728   \n",
       "min         1.000000       0.000000       0.000000    2100.000000   \n",
       "25%    246820.500000       8.000000       2.000000    2111.000000   \n",
       "50%    493923.000000      14.000000       9.000000    2113.000000   \n",
       "75%    741286.500000      19.000000      10.000000    2116.000000   \n",
       "max    988680.000000      23.000000      15.000000    8101.000000   \n",
       "\n",
       "        traffic_type           hits  \n",
       "count  619235.000000  619235.000000  \n",
       "mean        2.713186      18.210079  \n",
       "std         1.882351      39.099699  \n",
       "min         1.000000       1.000000  \n",
       "25%         1.000000       3.000000  \n",
       "50%         2.000000       7.000000  \n",
       "75%         4.000000      19.000000  \n",
       "max        10.000000    4174.000000  "
      ]
     },
     "execution_count": 36,
     "metadata": {},
     "output_type": "execute_result"
    }
   ],
   "source": [
    "records_hits_available.describe()"
   ]
  },
  {
   "cell_type": "code",
   "execution_count": 38,
   "metadata": {},
   "outputs": [
    {
     "data": {
      "text/plain": [
       "6"
      ]
     },
     "execution_count": 38,
     "metadata": {},
     "output_type": "execute_result"
    }
   ],
   "source": [
    "records['locale'].nunique()"
   ]
  },
  {
   "cell_type": "code",
   "execution_count": 40,
   "metadata": {},
   "outputs": [
    {
     "data": {
      "text/plain": [
       "147"
      ]
     },
     "execution_count": 40,
     "metadata": {},
     "output_type": "execute_result"
    }
   ],
   "source": [
    "records['entry_page'].nunique()"
   ]
  },
  {
   "cell_type": "code",
   "execution_count": 41,
   "metadata": {},
   "outputs": [
    {
     "data": {
      "text/plain": [
       "7"
      ]
     },
     "execution_count": 41,
     "metadata": {},
     "output_type": "execute_result"
    }
   ],
   "source": [
    "records['traffic_type'].nunique()"
   ]
  },
  {
   "cell_type": "markdown",
   "metadata": {},
   "source": [
    "locale, traffic_type are discrete variables"
   ]
  },
  {
   "cell_type": "code",
   "execution_count": 42,
   "metadata": {},
   "outputs": [
    {
     "data": {
      "text/plain": [
       "16"
      ]
     },
     "execution_count": 42,
     "metadata": {},
     "output_type": "execute_result"
    }
   ],
   "source": [
    "records['agent_id'].nunique()"
   ]
  },
  {
   "cell_type": "code",
   "execution_count": 43,
   "metadata": {},
   "outputs": [
    {
     "name": "stdout",
     "output_type": "stream",
     "text": [
      "<class 'pandas.core.frame.DataFrame'>\n",
      "Int64Index: 619235 entries, 1 to 988680\n",
      "Data columns (total 10 columns):\n",
      "row_num              619235 non-null int64\n",
      "locale               619235 non-null object\n",
      "day_of_week          619235 non-null object\n",
      "hour_of_day          619235 non-null int64\n",
      "agent_id             619235 non-null int64\n",
      "entry_page           619235 non-null int64\n",
      "path_id_set          616082 non-null object\n",
      "traffic_type         619235 non-null int64\n",
      "session_durantion    619235 non-null object\n",
      "hits                 619235 non-null int64\n",
      "dtypes: int64(6), object(4)\n",
      "memory usage: 52.0+ MB\n"
     ]
    }
   ],
   "source": [
    "known_hits_records.info()"
   ]
  },
  {
   "cell_type": "markdown",
   "metadata": {},
   "source": [
    "Remove Null path_id_set."
   ]
  },
  {
   "cell_type": "code",
   "execution_count": 12,
   "metadata": {
    "collapsed": true
   },
   "outputs": [],
   "source": [
    "records_hits_available.dropna(subset=['path_id_set'],how='any',inplace=True)"
   ]
  },
  {
   "cell_type": "code",
   "execution_count": 13,
   "metadata": {},
   "outputs": [
    {
     "data": {
      "text/plain": [
       "row_num              0\n",
       "locale               0\n",
       "day_of_week          0\n",
       "hour_of_day          0\n",
       "agent_id             0\n",
       "entry_page           0\n",
       "path_id_set          0\n",
       "traffic_type         0\n",
       "session_durantion    0\n",
       "hits                 0\n",
       "dtype: int64"
      ]
     },
     "execution_count": 13,
     "metadata": {},
     "output_type": "execute_result"
    }
   ],
   "source": [
    "records_hits_available.isnull().sum()"
   ]
  },
  {
   "cell_type": "code",
   "execution_count": 52,
   "metadata": {},
   "outputs": [
    {
     "data": {
      "text/plain": [
       "(616082, 10)"
      ]
     },
     "execution_count": 52,
     "metadata": {},
     "output_type": "execute_result"
    }
   ],
   "source": [
    "known_hits_records.shape"
   ]
  },
  {
   "cell_type": "markdown",
   "metadata": {},
   "source": [
    "### Frequency of Day of week VS Hour of day"
   ]
  },
  {
   "cell_type": "code",
   "execution_count": 24,
   "metadata": {},
   "outputs": [
    {
     "data": {
      "image/png": "[encoded data removed]",
      "text/plain": [
       "<matplotlib.figure.Figure at 0x7fe8f8e74b00>"
      ]
     },
     "metadata": {},
     "output_type": "display_data"
    }
   ],
   "source": [
    "grouped_df  = records_hits_available.groupby([\"day_of_week\", \"hour_of_day\"])[\"row_num\"].unique().reset_index()\n",
    "grouped_df[\"row_num\"] = grouped_df[\"row_num\"].apply(len)\n",
    "\n",
    "#grouped_df = df.groupby([\"Weekday\", \"hour\"])[\"InvoiceNo\"].aggregate(\"count\").reset_index()\n",
    "grouped_df = grouped_df.pivot('day_of_week', 'hour_of_day', 'row_num')\n",
    "\n",
    "plt.figure(figsize=(12,6))\n",
    "sns.heatmap(grouped_df)\n",
    "plt.title(\"Frequency of Day of week Vs Hour of day\")\n",
    "plt.show()"
   ]
  },
  {
   "cell_type": "code",
   "execution_count": 14,
   "metadata": {
    "collapsed": true
   },
   "outputs": [],
   "source": [
    "days = {'Monday':1,'Tuesday':2,'Wednesday':3,'Thursday':4,'Friday':5,'Saturday':6,'Sunday':7}\n",
    "records_hits_available['day_of_week'] = records_hits_available['day_of_week'].apply(lambda x: days[x])"
   ]
  },
  {
   "cell_type": "code",
   "execution_count": 16,
   "metadata": {
    "collapsed": true
   },
   "outputs": [],
   "source": [
    "records_hits_available.drop('path_id_set',axis=1,inplace=True)"
   ]
  },
  {
   "cell_type": "code",
   "execution_count": 17,
   "metadata": {},
   "outputs": [
    {
     "data": {
      "text/html": [
       "<div>\n",
       "<table border=\"1\" class=\"dataframe\">\n",
       "  <thead>\n",
       "    <tr style=\"text-align: right;\">\n",
       "      <th></th>\n",
       "      <th>row_num</th>\n",
       "      <th>locale</th>\n",
       "      <th>day_of_week</th>\n",
       "      <th>hour_of_day</th>\n",
       "      <th>agent_id</th>\n",
       "      <th>entry_page</th>\n",
       "      <th>traffic_type</th>\n",
       "      <th>session_durantion</th>\n",
       "      <th>hits</th>\n",
       "    </tr>\n",
       "  </thead>\n",
       "  <tbody>\n",
       "    <tr>\n",
       "      <th>1</th>\n",
       "      <td>988680</td>\n",
       "      <td>L2</td>\n",
       "      <td>4</td>\n",
       "      <td>22</td>\n",
       "      <td>10</td>\n",
       "      <td>2113</td>\n",
       "      <td>2</td>\n",
       "      <td>49</td>\n",
       "      <td>14</td>\n",
       "    </tr>\n",
       "    <tr>\n",
       "      <th>2</th>\n",
       "      <td>988679</td>\n",
       "      <td>L4</td>\n",
       "      <td>6</td>\n",
       "      <td>21</td>\n",
       "      <td>2</td>\n",
       "      <td>2100</td>\n",
       "      <td>1</td>\n",
       "      <td>1892</td>\n",
       "      <td>14</td>\n",
       "    </tr>\n",
       "    <tr>\n",
       "      <th>3</th>\n",
       "      <td>988678</td>\n",
       "      <td>L3</td>\n",
       "      <td>6</td>\n",
       "      <td>19</td>\n",
       "      <td>8</td>\n",
       "      <td>2113</td>\n",
       "      <td>6</td>\n",
       "      <td>0</td>\n",
       "      <td>1</td>\n",
       "    </tr>\n",
       "    <tr>\n",
       "      <th>4</th>\n",
       "      <td>988677</td>\n",
       "      <td>L2</td>\n",
       "      <td>2</td>\n",
       "      <td>6</td>\n",
       "      <td>10</td>\n",
       "      <td>2116</td>\n",
       "      <td>1</td>\n",
       "      <td>2</td>\n",
       "      <td>3</td>\n",
       "    </tr>\n",
       "    <tr>\n",
       "      <th>5</th>\n",
       "      <td>988676</td>\n",
       "      <td>L3</td>\n",
       "      <td>1</td>\n",
       "      <td>1</td>\n",
       "      <td>8</td>\n",
       "      <td>2100</td>\n",
       "      <td>1</td>\n",
       "      <td>0</td>\n",
       "      <td>2</td>\n",
       "    </tr>\n",
       "  </tbody>\n",
       "</table>\n",
       "</div>"
      ],
      "text/plain": [
       "   row_num locale  day_of_week  hour_of_day  agent_id  entry_page  \\\n",
       "1   988680     L2            4           22        10        2113   \n",
       "2   988679     L4            6           21         2        2100   \n",
       "3   988678     L3            6           19         8        2113   \n",
       "4   988677     L2            2            6        10        2116   \n",
       "5   988676     L3            1            1         8        2100   \n",
       "\n",
       "   traffic_type session_durantion  hits  \n",
       "1             2                49    14  \n",
       "2             1              1892    14  \n",
       "3             6                 0     1  \n",
       "4             1                 2     3  \n",
       "5             1                 0     2  "
      ]
     },
     "execution_count": 17,
     "metadata": {},
     "output_type": "execute_result"
    }
   ],
   "source": [
    "records_hits_available.head()"
   ]
  },
  {
   "cell_type": "code",
   "execution_count": 71,
   "metadata": {
    "collapsed": true
   },
   "outputs": [],
   "source": [
    "known_hits_records['locale'] = known_hits_records.locale.str.replace('L','')"
   ]
  },
  {
   "cell_type": "code",
   "execution_count": 72,
   "metadata": {
    "collapsed": true
   },
   "outputs": [],
   "source": [
    "known_hits_records['locale'] = known_hits_records.locale.astype(int)"
   ]
  },
  {
   "cell_type": "code",
   "execution_count": 73,
   "metadata": {},
   "outputs": [
    {
     "name": "stdout",
     "output_type": "stream",
     "text": [
      "<class 'pandas.core.frame.DataFrame'>\n",
      "Int64Index: 616082 entries, 1 to 988680\n",
      "Data columns (total 9 columns):\n",
      "row_num              616082 non-null int64\n",
      "locale               616082 non-null int64\n",
      "day_of_week          616082 non-null int64\n",
      "hour_of_day          616082 non-null int64\n",
      "agent_id             616082 non-null int64\n",
      "entry_page           616082 non-null int64\n",
      "traffic_type         616082 non-null int64\n",
      "session_durantion    616082 non-null object\n",
      "hits                 616082 non-null int64\n",
      "dtypes: int64(8), object(1)\n",
      "memory usage: 47.0+ MB\n"
     ]
    }
   ],
   "source": [
    "known_hits_records.info()"
   ]
  },
  {
   "cell_type": "code",
   "execution_count": 27,
   "metadata": {
    "collapsed": true
   },
   "outputs": [],
   "source": [
    "records_hits_available['session_duration'] = records_hits_available.session_duration.replace('\\\\NaN',value = np.nan)"
   ]
  },
  {
   "cell_type": "code",
   "execution_count": 28,
   "metadata": {
    "collapsed": true
   },
   "outputs": [],
   "source": [
    "records_hits_available.dropna(subset=['session_duration'],how='any',inplace=True)"
   ]
  },
  {
   "cell_type": "code",
   "execution_count": 30,
   "metadata": {},
   "outputs": [
    {
     "data": {
      "text/plain": [
       "0"
      ]
     },
     "execution_count": 30,
     "metadata": {},
     "output_type": "execute_result"
    }
   ],
   "source": [
    "records_hits_available['session_duration'].isnull().sum()"
   ]
  },
  {
   "cell_type": "code",
   "execution_count": 98,
   "metadata": {},
   "outputs": [
    {
     "data": {
      "text/plain": [
       "(615668, 9)"
      ]
     },
     "execution_count": 98,
     "metadata": {},
     "output_type": "execute_result"
    }
   ],
   "source": [
    "known_hits_records.shape"
   ]
  },
  {
   "cell_type": "code",
   "execution_count": 99,
   "metadata": {
    "collapsed": true
   },
   "outputs": [],
   "source": [
    "from sklearn.linear_model import LinearRegression\n",
    "from sklearn.tree import DecisionTreeRegressor\n",
    "from sklearn.ensemble import RandomForestRegressor\n",
    "from sklearn.svm import SVR\n",
    "from sklearn import model_selection, preprocessing"
   ]
  },
  {
   "cell_type": "code",
   "execution_count": 103,
   "metadata": {},
   "outputs": [
    {
     "name": "stdout",
     "output_type": "stream",
     "text": [
      "<class 'pandas.core.frame.DataFrame'>\n",
      "Int64Index: 615668 entries, 1 to 988680\n",
      "Data columns (total 9 columns):\n",
      "row_num             615668 non-null int64\n",
      "locale              615668 non-null int64\n",
      "day_of_week         615668 non-null int64\n",
      "hour_of_day         615668 non-null int64\n",
      "agent_id            615668 non-null int64\n",
      "entry_page          615668 non-null int64\n",
      "traffic_type        615668 non-null int64\n",
      "hits                615668 non-null int64\n",
      "session_duration    615668 non-null int64\n",
      "dtypes: int64(9)\n",
      "memory usage: 47.0 MB\n"
     ]
    }
   ],
   "source": [
    "known_hits_records.info()"
   ]
  },
  {
   "cell_type": "code",
   "execution_count": 104,
   "metadata": {
    "collapsed": true
   },
   "outputs": [],
   "source": [
    "X = np.array(known_hits_records.drop(known_hits_records[['hits']], 1))\n",
    "y = np.array(known_hits_records['hits'])\n",
    "X_train, X_test, y_train, y_test = model_selection.train_test_split(X, y, test_size = 0.2)"
   ]
  },
  {
   "cell_type": "code",
   "execution_count": 105,
   "metadata": {
    "collapsed": true
   },
   "outputs": [],
   "source": [
    "linear_reg = LinearRegression()"
   ]
  },
  {
   "cell_type": "code",
   "execution_count": 106,
   "metadata": {},
   "outputs": [
    {
     "data": {
      "text/plain": [
       "LinearRegression(copy_X=True, fit_intercept=True, n_jobs=1, normalize=False)"
      ]
     },
     "execution_count": 106,
     "metadata": {},
     "output_type": "execute_result"
    }
   ],
   "source": [
    "linear_reg.fit(X_train,y_train)"
   ]
  },
  {
   "cell_type": "code",
   "execution_count": 108,
   "metadata": {
    "collapsed": true
   },
   "outputs": [],
   "source": [
    "def rmse(predictions, targets):\n",
    "    return np.sqrt(((predictions - targets) ** 2).mean())"
   ]
  },
  {
   "cell_type": "code",
   "execution_count": 109,
   "metadata": {
    "collapsed": true
   },
   "outputs": [],
   "source": [
    "predictions = linear_reg.predict(X_test)"
   ]
  },
  {
   "cell_type": "code",
   "execution_count": 110,
   "metadata": {},
   "outputs": [
    {
     "data": {
      "text/plain": [
       "37.383697515076449"
      ]
     },
     "execution_count": 110,
     "metadata": {},
     "output_type": "execute_result"
    }
   ],
   "source": [
    "rmse(predictions,y_test)"
   ]
  },
  {
   "cell_type": "code",
   "execution_count": 111,
   "metadata": {
    "collapsed": true
   },
   "outputs": [],
   "source": [
    "from sklearn.metrics import mean_squared_error\n",
    "from math import sqrt\n",
    "\n",
    "rms = sqrt(mean_squared_error(y_test, predictions))"
   ]
  },
  {
   "cell_type": "code",
   "execution_count": 112,
   "metadata": {},
   "outputs": [
    {
     "data": {
      "text/plain": [
       "37.38369751507645"
      ]
     },
     "execution_count": 112,
     "metadata": {},
     "output_type": "execute_result"
    }
   ],
   "source": [
    "rms"
   ]
  },
  {
   "cell_type": "code",
   "execution_count": 114,
   "metadata": {
    "collapsed": true
   },
   "outputs": [],
   "source": [
    "from sklearn.linear_model import LogisticRegression\n",
    "from sklearn import metrics\n",
    "logreg = LogisticRegression()\n",
    "logreg.fit(X_train, y_train)\n",
    "y_predicted = logreg.predict(X_test)"
   ]
  },
  {
   "cell_type": "code",
   "execution_count": 115,
   "metadata": {
    "collapsed": true
   },
   "outputs": [],
   "source": [
    "rms = sqrt(mean_squared_error(y_predicted, y_test))"
   ]
  },
  {
   "cell_type": "code",
   "execution_count": 116,
   "metadata": {},
   "outputs": [
    {
     "data": {
      "text/plain": [
       "41.442219418258034"
      ]
     },
     "execution_count": 116,
     "metadata": {},
     "output_type": "execute_result"
    }
   ],
   "source": [
    "rms"
   ]
  },
  {
   "cell_type": "code",
   "execution_count": 117,
   "metadata": {},
   "outputs": [
    {
     "data": {
      "text/plain": [
       "RandomForestRegressor(bootstrap=True, criterion='mse', max_depth=None,\n",
       "           max_features='auto', max_leaf_nodes=None,\n",
       "           min_impurity_split=1e-07, min_samples_leaf=1,\n",
       "           min_samples_split=2, min_weight_fraction_leaf=0.0,\n",
       "           n_estimators=10, n_jobs=1, oob_score=False, random_state=42,\n",
       "           verbose=0, warm_start=False)"
      ]
     },
     "execution_count": 117,
     "metadata": {},
     "output_type": "execute_result"
    }
   ],
   "source": [
    "from sklearn.ensemble import RandomForestRegressor\n",
    "forest_reg = RandomForestRegressor(random_state=42)\n",
    "forest_reg.fit(X_train, y_train)"
   ]
  },
  {
   "cell_type": "code",
   "execution_count": 118,
   "metadata": {},
   "outputs": [
    {
     "name": "stdout",
     "output_type": "stream",
     "text": [
      "Random Forest RMSE: 36.5179\n"
     ]
    }
   ],
   "source": [
    "y_pred = forest_reg.predict(X_test)\n",
    "forest_mse = mean_squared_error(y_pred, y_test)\n",
    "forest_rmse = np.sqrt(forest_mse)\n",
    "print('Random Forest RMSE: %.4f' % forest_rmse)"
   ]
  },
  {
   "cell_type": "markdown",
   "metadata": {
    "collapsed": true
   },
   "source": [
    "## Spot check algorithms"
   ]
  },
  {
   "cell_type": "code",
   "execution_count": 25,
   "metadata": {
    "collapsed": true
   },
   "outputs": [],
   "source": [
    "# Print RMSE score\n",
    "def get_score(prediction, observations):    \n",
    "    print('RMSE: {}'.format(np.sqrt(mean_squared_error(prediction, observations))))\n",
    "\n",
    "# Shows scores for train and validation sets    \n",
    "def train_test(estimator, X_train, X_test, y_train, y_test):\n",
    "    prediction_train = estimator.predict(X_train)\n",
    "    # Printing estimator\n",
    "    print(estimator)\n",
    "    prediction_test = estimator.predict(X_test)\n",
    "    # Printing test scores\n",
    "    print(\"Test\")\n",
    "    get_score(prediction_test, y_test)"
   ]
  },
  {
   "cell_type": "code",
   "execution_count": 26,
   "metadata": {},
   "outputs": [
    {
     "data": {
      "text/html": [
       "<div>\n",
       "<table border=\"1\" class=\"dataframe\">\n",
       "  <thead>\n",
       "    <tr style=\"text-align: right;\">\n",
       "      <th></th>\n",
       "      <th>row_num</th>\n",
       "      <th>locale</th>\n",
       "      <th>day_of_week</th>\n",
       "      <th>hour_of_day</th>\n",
       "      <th>agent_id</th>\n",
       "      <th>entry_page</th>\n",
       "      <th>path_id_set</th>\n",
       "      <th>traffic_type</th>\n",
       "      <th>session_duration</th>\n",
       "      <th>hits</th>\n",
       "    </tr>\n",
       "  </thead>\n",
       "  <tbody>\n",
       "    <tr>\n",
       "      <th>1</th>\n",
       "      <td>988680</td>\n",
       "      <td>L2</td>\n",
       "      <td>Thursday</td>\n",
       "      <td>22</td>\n",
       "      <td>10</td>\n",
       "      <td>2113</td>\n",
       "      <td>31965;0</td>\n",
       "      <td>2</td>\n",
       "      <td>49</td>\n",
       "      <td>14</td>\n",
       "    </tr>\n",
       "    <tr>\n",
       "      <th>2</th>\n",
       "      <td>988679</td>\n",
       "      <td>L4</td>\n",
       "      <td>Saturday</td>\n",
       "      <td>21</td>\n",
       "      <td>2</td>\n",
       "      <td>2100</td>\n",
       "      <td>0;78464</td>\n",
       "      <td>1</td>\n",
       "      <td>1892</td>\n",
       "      <td>14</td>\n",
       "    </tr>\n",
       "    <tr>\n",
       "      <th>3</th>\n",
       "      <td>988678</td>\n",
       "      <td>L3</td>\n",
       "      <td>Saturday</td>\n",
       "      <td>19</td>\n",
       "      <td>8</td>\n",
       "      <td>2113</td>\n",
       "      <td>51462</td>\n",
       "      <td>6</td>\n",
       "      <td>0</td>\n",
       "      <td>1</td>\n",
       "    </tr>\n",
       "    <tr>\n",
       "      <th>4</th>\n",
       "      <td>988677</td>\n",
       "      <td>L2</td>\n",
       "      <td>Tuesday</td>\n",
       "      <td>6</td>\n",
       "      <td>10</td>\n",
       "      <td>2116</td>\n",
       "      <td>31931;0</td>\n",
       "      <td>1</td>\n",
       "      <td>2</td>\n",
       "      <td>3</td>\n",
       "    </tr>\n",
       "    <tr>\n",
       "      <th>5</th>\n",
       "      <td>988676</td>\n",
       "      <td>L3</td>\n",
       "      <td>Monday</td>\n",
       "      <td>1</td>\n",
       "      <td>8</td>\n",
       "      <td>2100</td>\n",
       "      <td>0</td>\n",
       "      <td>1</td>\n",
       "      <td>0</td>\n",
       "      <td>2</td>\n",
       "    </tr>\n",
       "  </tbody>\n",
       "</table>\n",
       "</div>"
      ],
      "text/plain": [
       "   row_num locale day_of_week  hour_of_day  agent_id  entry_page path_id_set  \\\n",
       "1   988680     L2    Thursday           22        10        2113     31965;0   \n",
       "2   988679     L4    Saturday           21         2        2100     0;78464   \n",
       "3   988678     L3    Saturday           19         8        2113       51462   \n",
       "4   988677     L2     Tuesday            6        10        2116     31931;0   \n",
       "5   988676     L3      Monday            1         8        2100           0   \n",
       "\n",
       "   traffic_type session_duration  hits  \n",
       "1             2               49    14  \n",
       "2             1             1892    14  \n",
       "3             6                0     1  \n",
       "4             1                2     3  \n",
       "5             1                0     2  "
      ]
     },
     "execution_count": 26,
     "metadata": {},
     "output_type": "execute_result"
    }
   ],
   "source": [
    "records_hits_available.head()"
   ]
  },
  {
   "cell_type": "code",
   "execution_count": 31,
   "metadata": {},
   "outputs": [
    {
     "name": "stdout",
     "output_type": "stream",
     "text": [
      "<class 'pandas.core.frame.DataFrame'>\n",
      "Int64Index: 616082 entries, 1 to 988680\n",
      "Data columns (total 10 columns):\n",
      "row_num             616082 non-null int64\n",
      "locale              616082 non-null object\n",
      "day_of_week         616082 non-null object\n",
      "hour_of_day         616082 non-null int64\n",
      "agent_id            616082 non-null int64\n",
      "entry_page          616082 non-null int64\n",
      "path_id_set         616082 non-null object\n",
      "traffic_type        616082 non-null int64\n",
      "session_duration    616082 non-null object\n",
      "hits                616082 non-null int64\n",
      "dtypes: int64(6), object(4)\n",
      "memory usage: 51.7+ MB\n"
     ]
    }
   ],
   "source": [
    "records_hits_available.info()"
   ]
  },
  {
   "cell_type": "code",
   "execution_count": 36,
   "metadata": {
    "collapsed": true
   },
   "outputs": [],
   "source": [
    "records_hits_available['session_duration'] = records_hits_available.session_duration.replace('\\\\N',value = np.nan)\n",
    "records_hits_available.dropna(subset=['session_duration'],how='any',inplace=True)\n",
    "records_hits_available['session_duration'] = records_hits_available.session_duration.astype(int)"
   ]
  },
  {
   "cell_type": "markdown",
   "metadata": {
    "collapsed": true
   },
   "source": [
    "### Linear regression"
   ]
  },
  {
   "cell_type": "markdown",
   "metadata": {},
   "source": [
    "#### Prepare Data"
   ]
  },
  {
   "cell_type": "code",
   "execution_count": 39,
   "metadata": {},
   "outputs": [
    {
     "name": "stdout",
     "output_type": "stream",
     "text": [
      "<class 'pandas.core.frame.DataFrame'>\n",
      "Int64Index: 615668 entries, 1 to 988680\n",
      "Data columns (total 10 columns):\n",
      "row_num             615668 non-null int64\n",
      "locale              615668 non-null object\n",
      "day_of_week         615668 non-null object\n",
      "hour_of_day         615668 non-null int64\n",
      "agent_id            615668 non-null int64\n",
      "entry_page          615668 non-null int64\n",
      "path_id_set         615668 non-null object\n",
      "traffic_type        615668 non-null int64\n",
      "session_duration    615668 non-null int64\n",
      "hits                615668 non-null int64\n",
      "dtypes: int64(7), object(3)\n",
      "memory usage: 51.7+ MB\n"
     ]
    }
   ],
   "source": [
    "records_hits_available.info()"
   ]
  },
  {
   "cell_type": "code",
   "execution_count": 40,
   "metadata": {},
   "outputs": [
    {
     "data": {
      "text/html": [
       "<div>\n",
       "<table border=\"1\" class=\"dataframe\">\n",
       "  <thead>\n",
       "    <tr style=\"text-align: right;\">\n",
       "      <th></th>\n",
       "      <th>row_num</th>\n",
       "      <th>hour_of_day</th>\n",
       "      <th>agent_id</th>\n",
       "      <th>entry_page</th>\n",
       "      <th>traffic_type</th>\n",
       "      <th>session_duration</th>\n",
       "      <th>hits</th>\n",
       "    </tr>\n",
       "  </thead>\n",
       "  <tbody>\n",
       "    <tr>\n",
       "      <th>count</th>\n",
       "      <td>615668.000000</td>\n",
       "      <td>615668.000000</td>\n",
       "      <td>615668.000000</td>\n",
       "      <td>615668.000000</td>\n",
       "      <td>615668.000000</td>\n",
       "      <td>615668.000000</td>\n",
       "      <td>615668.000000</td>\n",
       "    </tr>\n",
       "    <tr>\n",
       "      <th>mean</th>\n",
       "      <td>494104.458632</td>\n",
       "      <td>13.202320</td>\n",
       "      <td>7.434081</td>\n",
       "      <td>2257.953418</td>\n",
       "      <td>2.709847</td>\n",
       "      <td>494.001288</td>\n",
       "      <td>18.305580</td>\n",
       "    </tr>\n",
       "    <tr>\n",
       "      <th>std</th>\n",
       "      <td>285455.620227</td>\n",
       "      <td>6.761316</td>\n",
       "      <td>3.978968</td>\n",
       "      <td>785.306752</td>\n",
       "      <td>1.866371</td>\n",
       "      <td>1917.165817</td>\n",
       "      <td>39.191119</td>\n",
       "    </tr>\n",
       "    <tr>\n",
       "      <th>min</th>\n",
       "      <td>1.000000</td>\n",
       "      <td>0.000000</td>\n",
       "      <td>0.000000</td>\n",
       "      <td>2100.000000</td>\n",
       "      <td>1.000000</td>\n",
       "      <td>0.000000</td>\n",
       "      <td>1.000000</td>\n",
       "    </tr>\n",
       "    <tr>\n",
       "      <th>25%</th>\n",
       "      <td>246839.750000</td>\n",
       "      <td>8.000000</td>\n",
       "      <td>2.000000</td>\n",
       "      <td>2111.000000</td>\n",
       "      <td>1.000000</td>\n",
       "      <td>4.000000</td>\n",
       "      <td>3.000000</td>\n",
       "    </tr>\n",
       "    <tr>\n",
       "      <th>50%</th>\n",
       "      <td>493946.000000</td>\n",
       "      <td>14.000000</td>\n",
       "      <td>9.000000</td>\n",
       "      <td>2113.000000</td>\n",
       "      <td>2.000000</td>\n",
       "      <td>59.000000</td>\n",
       "      <td>7.000000</td>\n",
       "    </tr>\n",
       "    <tr>\n",
       "      <th>75%</th>\n",
       "      <td>741299.250000</td>\n",
       "      <td>19.000000</td>\n",
       "      <td>10.000000</td>\n",
       "      <td>2116.000000</td>\n",
       "      <td>4.000000</td>\n",
       "      <td>326.000000</td>\n",
       "      <td>19.000000</td>\n",
       "    </tr>\n",
       "    <tr>\n",
       "      <th>max</th>\n",
       "      <td>988680.000000</td>\n",
       "      <td>23.000000</td>\n",
       "      <td>15.000000</td>\n",
       "      <td>8101.000000</td>\n",
       "      <td>10.000000</td>\n",
       "      <td>86219.000000</td>\n",
       "      <td>4174.000000</td>\n",
       "    </tr>\n",
       "  </tbody>\n",
       "</table>\n",
       "</div>"
      ],
      "text/plain": [
       "             row_num    hour_of_day       agent_id     entry_page  \\\n",
       "count  615668.000000  615668.000000  615668.000000  615668.000000   \n",
       "mean   494104.458632      13.202320       7.434081    2257.953418   \n",
       "std    285455.620227       6.761316       3.978968     785.306752   \n",
       "min         1.000000       0.000000       0.000000    2100.000000   \n",
       "25%    246839.750000       8.000000       2.000000    2111.000000   \n",
       "50%    493946.000000      14.000000       9.000000    2113.000000   \n",
       "75%    741299.250000      19.000000      10.000000    2116.000000   \n",
       "max    988680.000000      23.000000      15.000000    8101.000000   \n",
       "\n",
       "        traffic_type  session_duration           hits  \n",
       "count  615668.000000     615668.000000  615668.000000  \n",
       "mean        2.709847        494.001288      18.305580  \n",
       "std         1.866371       1917.165817      39.191119  \n",
       "min         1.000000          0.000000       1.000000  \n",
       "25%         1.000000          4.000000       3.000000  \n",
       "50%         2.000000         59.000000       7.000000  \n",
       "75%         4.000000        326.000000      19.000000  \n",
       "max        10.000000      86219.000000    4174.000000  "
      ]
     },
     "execution_count": 40,
     "metadata": {},
     "output_type": "execute_result"
    }
   ],
   "source": [
    "records_hits_available.describe()"
   ]
  },
  {
   "cell_type": "code",
   "execution_count": 53,
   "metadata": {},
   "outputs": [
    {
     "data": {
      "text/plain": [
       "<matplotlib.axes._subplots.AxesSubplot at 0x7fe8ec7e7dd8>"
      ]
     },
     "execution_count": 53,
     "metadata": {},
     "output_type": "execute_result"
    },
    {
     "data": {
      "image/png": "[encoded data removed]",
      "text/plain": [
       "<matplotlib.figure.Figure at 0x7fe8ec7c7860>"
      ]
     },
     "metadata": {},
     "output_type": "display_data"
    }
   ],
   "source": [
    "sns.distplot(records_hits_available['hour_of_day'])"
   ]
  },
  {
   "cell_type": "markdown",
   "metadata": {},
   "source": [
    "The distribution of hour_of_day is not Gaussian and thus need to be transformed."
   ]
  },
  {
   "cell_type": "code",
   "execution_count": 50,
   "metadata": {},
   "outputs": [
    {
     "data": {
      "text/plain": [
       "<matplotlib.axes._subplots.AxesSubplot at 0x7fe8eca71f98>"
      ]
     },
     "execution_count": 50,
     "metadata": {},
     "output_type": "execute_result"
    },
    {
     "data": {
      "image/png": "[encoded data removed]",
      "text/plain": [
       "<matplotlib.figure.Figure at 0x7fe8eca77828>"
      ]
     },
     "metadata": {},
     "output_type": "display_data"
    }
   ],
   "source": [
    "sns.distplot(records_hits_available['session_duration'])"
   ]
  },
  {
   "cell_type": "code",
   "execution_count": 51,
   "metadata": {},
   "outputs": [
    {
     "data": {
      "text/plain": [
       "<matplotlib.axes._subplots.AxesSubplot at 0x7fe8ec9a1ef0>"
      ]
     },
     "execution_count": 51,
     "metadata": {},
     "output_type": "execute_result"
    },
    {
     "data": {
      "image/png": "[encoded data removed]",
      "text/plain": [
       "<matplotlib.figure.Figure at 0x7fe8ec92cbe0>"
      ]
     },
     "metadata": {},
     "output_type": "display_data"
    }
   ],
   "source": [
    "sns.distplot(records_hits_available['traffic_type'])"
   ]
  },
  {
   "cell_type": "code",
   "execution_count": 44,
   "metadata": {},
   "outputs": [
    {
     "data": {
      "text/plain": [
       "<matplotlib.axes._subplots.AxesSubplot at 0x7fe8ed03c550>"
      ]
     },
     "execution_count": 44,
     "metadata": {},
     "output_type": "execute_result"
    },
    {
     "data": {
      "image/png": "[encoded data removed]",
      "text/plain": [
       "<matplotlib.figure.Figure at 0x7fe8ed209518>"
      ]
     },
     "metadata": {},
     "output_type": "display_data"
    }
   ],
   "source": [
    "sns.distplot(records_hits_available['entry_page'])"
   ]
  },
  {
   "cell_type": "code",
   "execution_count": 47,
   "metadata": {},
   "outputs": [
    {
     "data": {
      "text/plain": [
       "<matplotlib.axes._subplots.AxesSubplot at 0x7fe8ecde6ac8>"
      ]
     },
     "execution_count": 47,
     "metadata": {},
     "output_type": "execute_result"
    },
    {
     "data": {
      "image/png": "[encoded data removed]",
      "text/plain": [
       "<matplotlib.figure.Figure at 0x7fe8eccf8400>"
      ]
     },
     "metadata": {},
     "output_type": "display_data"
    }
   ],
   "source": [
    "sns.distplot(np.log(records_hits_available['hits']))"
   ]
  },
  {
   "cell_type": "code",
   "execution_count": 54,
   "metadata": {},
   "outputs": [
    {
     "data": {
      "text/plain": [
       "count    615668.000000\n",
       "mean         18.305580\n",
       "std          39.191119\n",
       "min           1.000000\n",
       "25%           3.000000\n",
       "50%           7.000000\n",
       "75%          19.000000\n",
       "max        4174.000000\n",
       "Name: hits, dtype: float64"
      ]
     },
     "execution_count": 54,
     "metadata": {},
     "output_type": "execute_result"
    }
   ],
   "source": [
    "records_hits_available['hits'].describe()"
   ]
  },
  {
   "cell_type": "code",
   "execution_count": 56,
   "metadata": {
    "collapsed": true
   },
   "outputs": [],
   "source": [
    "records_filtered = records_hits_available[records_hits_available['hits'] < 4000]"
   ]
  },
  {
   "cell_type": "code",
   "execution_count": 57,
   "metadata": {},
   "outputs": [
    {
     "data": {
      "text/plain": [
       "(615667, 10)"
      ]
     },
     "execution_count": 57,
     "metadata": {},
     "output_type": "execute_result"
    }
   ],
   "source": [
    "records_filtered.shape"
   ]
  },
  {
   "cell_type": "code",
   "execution_count": 58,
   "metadata": {},
   "outputs": [
    {
     "data": {
      "text/html": [
       "<div>\n",
       "<table border=\"1\" class=\"dataframe\">\n",
       "  <thead>\n",
       "    <tr style=\"text-align: right;\">\n",
       "      <th></th>\n",
       "      <th>row_num</th>\n",
       "      <th>hour_of_day</th>\n",
       "      <th>agent_id</th>\n",
       "      <th>entry_page</th>\n",
       "      <th>traffic_type</th>\n",
       "      <th>session_duration</th>\n",
       "      <th>hits</th>\n",
       "    </tr>\n",
       "  </thead>\n",
       "  <tbody>\n",
       "    <tr>\n",
       "      <th>count</th>\n",
       "      <td>615667.000000</td>\n",
       "      <td>615667.000000</td>\n",
       "      <td>615667.000000</td>\n",
       "      <td>615667.000000</td>\n",
       "      <td>615667.000000</td>\n",
       "      <td>615667.000000</td>\n",
       "      <td>615667.000000</td>\n",
       "    </tr>\n",
       "    <tr>\n",
       "      <th>mean</th>\n",
       "      <td>494105.109369</td>\n",
       "      <td>13.202342</td>\n",
       "      <td>7.434093</td>\n",
       "      <td>2257.952698</td>\n",
       "      <td>2.709850</td>\n",
       "      <td>493.982185</td>\n",
       "      <td>18.298830</td>\n",
       "    </tr>\n",
       "    <tr>\n",
       "      <th>std</th>\n",
       "      <td>285455.395397</td>\n",
       "      <td>6.761301</td>\n",
       "      <td>3.978960</td>\n",
       "      <td>785.307186</td>\n",
       "      <td>1.866371</td>\n",
       "      <td>1917.108779</td>\n",
       "      <td>38.831633</td>\n",
       "    </tr>\n",
       "    <tr>\n",
       "      <th>min</th>\n",
       "      <td>1.000000</td>\n",
       "      <td>0.000000</td>\n",
       "      <td>0.000000</td>\n",
       "      <td>2100.000000</td>\n",
       "      <td>1.000000</td>\n",
       "      <td>0.000000</td>\n",
       "      <td>1.000000</td>\n",
       "    </tr>\n",
       "    <tr>\n",
       "      <th>25%</th>\n",
       "      <td>246841.000000</td>\n",
       "      <td>8.000000</td>\n",
       "      <td>2.000000</td>\n",
       "      <td>2111.000000</td>\n",
       "      <td>1.000000</td>\n",
       "      <td>4.000000</td>\n",
       "      <td>3.000000</td>\n",
       "    </tr>\n",
       "    <tr>\n",
       "      <th>50%</th>\n",
       "      <td>493947.000000</td>\n",
       "      <td>14.000000</td>\n",
       "      <td>9.000000</td>\n",
       "      <td>2113.000000</td>\n",
       "      <td>2.000000</td>\n",
       "      <td>59.000000</td>\n",
       "      <td>7.000000</td>\n",
       "    </tr>\n",
       "    <tr>\n",
       "      <th>75%</th>\n",
       "      <td>741299.500000</td>\n",
       "      <td>19.000000</td>\n",
       "      <td>10.000000</td>\n",
       "      <td>2116.000000</td>\n",
       "      <td>4.000000</td>\n",
       "      <td>326.000000</td>\n",
       "      <td>19.000000</td>\n",
       "    </tr>\n",
       "    <tr>\n",
       "      <th>max</th>\n",
       "      <td>988680.000000</td>\n",
       "      <td>23.000000</td>\n",
       "      <td>15.000000</td>\n",
       "      <td>8101.000000</td>\n",
       "      <td>10.000000</td>\n",
       "      <td>86219.000000</td>\n",
       "      <td>2603.000000</td>\n",
       "    </tr>\n",
       "  </tbody>\n",
       "</table>\n",
       "</div>"
      ],
      "text/plain": [
       "             row_num    hour_of_day       agent_id     entry_page  \\\n",
       "count  615667.000000  615667.000000  615667.000000  615667.000000   \n",
       "mean   494105.109369      13.202342       7.434093    2257.952698   \n",
       "std    285455.395397       6.761301       3.978960     785.307186   \n",
       "min         1.000000       0.000000       0.000000    2100.000000   \n",
       "25%    246841.000000       8.000000       2.000000    2111.000000   \n",
       "50%    493947.000000      14.000000       9.000000    2113.000000   \n",
       "75%    741299.500000      19.000000      10.000000    2116.000000   \n",
       "max    988680.000000      23.000000      15.000000    8101.000000   \n",
       "\n",
       "        traffic_type  session_duration           hits  \n",
       "count  615667.000000     615667.000000  615667.000000  \n",
       "mean        2.709850        493.982185      18.298830  \n",
       "std         1.866371       1917.108779      38.831633  \n",
       "min         1.000000          0.000000       1.000000  \n",
       "25%         1.000000          4.000000       3.000000  \n",
       "50%         2.000000         59.000000       7.000000  \n",
       "75%         4.000000        326.000000      19.000000  \n",
       "max        10.000000      86219.000000    2603.000000  "
      ]
     },
     "execution_count": 58,
     "metadata": {},
     "output_type": "execute_result"
    }
   ],
   "source": [
    "records_filtered.describe()"
   ]
  },
  {
   "cell_type": "code",
   "execution_count": 69,
   "metadata": {},
   "outputs": [
    {
     "data": {
      "text/plain": [
       "62"
      ]
     },
     "execution_count": 69,
     "metadata": {},
     "output_type": "execute_result"
    }
   ],
   "source": [
    "len(records_filtered[records_filtered['hits']>1000])"
   ]
  },
  {
   "cell_type": "code",
   "execution_count": 70,
   "metadata": {
    "collapsed": true
   },
   "outputs": [],
   "source": [
    "records_filtered = records_filtered[records_filtered['hits']<=1000]"
   ]
  },
  {
   "cell_type": "code",
   "execution_count": 71,
   "metadata": {},
   "outputs": [
    {
     "data": {
      "text/html": [
       "<div>\n",
       "<table border=\"1\" class=\"dataframe\">\n",
       "  <thead>\n",
       "    <tr style=\"text-align: right;\">\n",
       "      <th></th>\n",
       "      <th>row_num</th>\n",
       "      <th>hour_of_day</th>\n",
       "      <th>agent_id</th>\n",
       "      <th>entry_page</th>\n",
       "      <th>traffic_type</th>\n",
       "      <th>session_duration</th>\n",
       "      <th>hits</th>\n",
       "    </tr>\n",
       "  </thead>\n",
       "  <tbody>\n",
       "    <tr>\n",
       "      <th>count</th>\n",
       "      <td>615605.000000</td>\n",
       "      <td>615605.00000</td>\n",
       "      <td>615605.000000</td>\n",
       "      <td>615605.000000</td>\n",
       "      <td>615605.000000</td>\n",
       "      <td>615605.000000</td>\n",
       "      <td>615605.000000</td>\n",
       "    </tr>\n",
       "    <tr>\n",
       "      <th>mean</th>\n",
       "      <td>494103.083653</td>\n",
       "      <td>13.20237</td>\n",
       "      <td>7.434157</td>\n",
       "      <td>2257.964594</td>\n",
       "      <td>2.709976</td>\n",
       "      <td>493.465406</td>\n",
       "      <td>18.156764</td>\n",
       "    </tr>\n",
       "    <tr>\n",
       "      <th>std</th>\n",
       "      <td>285458.190411</td>\n",
       "      <td>6.76133</td>\n",
       "      <td>3.978917</td>\n",
       "      <td>785.345270</td>\n",
       "      <td>1.866398</td>\n",
       "      <td>1915.894984</td>\n",
       "      <td>35.921620</td>\n",
       "    </tr>\n",
       "    <tr>\n",
       "      <th>min</th>\n",
       "      <td>1.000000</td>\n",
       "      <td>0.00000</td>\n",
       "      <td>0.000000</td>\n",
       "      <td>2100.000000</td>\n",
       "      <td>1.000000</td>\n",
       "      <td>0.000000</td>\n",
       "      <td>1.000000</td>\n",
       "    </tr>\n",
       "    <tr>\n",
       "      <th>25%</th>\n",
       "      <td>246838.000000</td>\n",
       "      <td>8.00000</td>\n",
       "      <td>2.000000</td>\n",
       "      <td>2111.000000</td>\n",
       "      <td>1.000000</td>\n",
       "      <td>4.000000</td>\n",
       "      <td>3.000000</td>\n",
       "    </tr>\n",
       "    <tr>\n",
       "      <th>50%</th>\n",
       "      <td>493934.000000</td>\n",
       "      <td>14.00000</td>\n",
       "      <td>9.000000</td>\n",
       "      <td>2113.000000</td>\n",
       "      <td>2.000000</td>\n",
       "      <td>59.000000</td>\n",
       "      <td>7.000000</td>\n",
       "    </tr>\n",
       "    <tr>\n",
       "      <th>75%</th>\n",
       "      <td>741301.000000</td>\n",
       "      <td>19.00000</td>\n",
       "      <td>10.000000</td>\n",
       "      <td>2116.000000</td>\n",
       "      <td>4.000000</td>\n",
       "      <td>326.000000</td>\n",
       "      <td>19.000000</td>\n",
       "    </tr>\n",
       "    <tr>\n",
       "      <th>max</th>\n",
       "      <td>988680.000000</td>\n",
       "      <td>23.00000</td>\n",
       "      <td>15.000000</td>\n",
       "      <td>8101.000000</td>\n",
       "      <td>10.000000</td>\n",
       "      <td>86219.000000</td>\n",
       "      <td>1000.000000</td>\n",
       "    </tr>\n",
       "  </tbody>\n",
       "</table>\n",
       "</div>"
      ],
      "text/plain": [
       "             row_num   hour_of_day       agent_id     entry_page  \\\n",
       "count  615605.000000  615605.00000  615605.000000  615605.000000   \n",
       "mean   494103.083653      13.20237       7.434157    2257.964594   \n",
       "std    285458.190411       6.76133       3.978917     785.345270   \n",
       "min         1.000000       0.00000       0.000000    2100.000000   \n",
       "25%    246838.000000       8.00000       2.000000    2111.000000   \n",
       "50%    493934.000000      14.00000       9.000000    2113.000000   \n",
       "75%    741301.000000      19.00000      10.000000    2116.000000   \n",
       "max    988680.000000      23.00000      15.000000    8101.000000   \n",
       "\n",
       "        traffic_type  session_duration           hits  \n",
       "count  615605.000000     615605.000000  615605.000000  \n",
       "mean        2.709976        493.465406      18.156764  \n",
       "std         1.866398       1915.894984      35.921620  \n",
       "min         1.000000          0.000000       1.000000  \n",
       "25%         1.000000          4.000000       3.000000  \n",
       "50%         2.000000         59.000000       7.000000  \n",
       "75%         4.000000        326.000000      19.000000  \n",
       "max        10.000000      86219.000000    1000.000000  "
      ]
     },
     "execution_count": 71,
     "metadata": {},
     "output_type": "execute_result"
    }
   ],
   "source": [
    "records_filtered.describe()"
   ]
  },
  {
   "cell_type": "code",
   "execution_count": 72,
   "metadata": {},
   "outputs": [
    {
     "data": {
      "image/png": "[encoded data removed]",
      "text/plain": [
       "<matplotlib.figure.Figure at 0x7fe8ec689358>"
      ]
     },
     "metadata": {},
     "output_type": "display_data"
    }
   ],
   "source": [
    "pd.scatter_matrix(records_filtered, alpha = 0.3, figsize = (14,8), diagonal = 'kde');"
   ]
  },
  {
   "cell_type": "code",
   "execution_count": 24,
   "metadata": {
    "collapsed": true
   },
   "outputs": [],
   "source": [
    "records_hits_available['HourGroup'] = records_hits_available['hour_of_day']\n",
    "records_hits_available.loc[(records_hits_available['HourGroup']>7) & (records_hits_available['HourGroup']<12), 'HourGroup'] = 0\n",
    "records_hits_available.loc[(records_hits_available['HourGroup']>=12) & (records_hits_available['HourGroup']<=18), 'HourGroup'] = 1\n",
    "records_hits_available.loc[(records_hits_available['HourGroup']>18) , 'HourGroup'] = 2"
   ]
  },
  {
   "cell_type": "code",
   "execution_count": 26,
   "metadata": {},
   "outputs": [
    {
     "data": {
      "text/plain": [
       "array([2, 6, 1, 3, 5, 0, 7, 4])"
      ]
     },
     "execution_count": 26,
     "metadata": {},
     "output_type": "execute_result"
    }
   ],
   "source": [
    "records_hits_available['HourGroup'].unique()"
   ]
  },
  {
   "cell_type": "code",
   "execution_count": null,
   "metadata": {
    "collapsed": true
   },
   "outputs": [],
   "source": []
  }
 ],
 "metadata": {
  "kernelspec": {
   "display_name": "Python 3",
   "language": "python",
   "name": "python3"
  },
  "language_info": {
   "codemirror_mode": {
    "name": "ipython",
    "version": 3
   },
   "file_extension": ".py",
   "mimetype": "text/x-python",
   "name": "python",
   "nbconvert_exporter": "python",
   "pygments_lexer": "ipython3",
   "version": "3.4.5"
  }
 },
 "nbformat": 4,
 "nbformat_minor": 2
}
